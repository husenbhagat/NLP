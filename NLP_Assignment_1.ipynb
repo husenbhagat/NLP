{
 "cells": [
  {
   "cell_type": "markdown",
   "metadata": {},
   "source": [
    "# NLP Assignment 1\n",
    "# SUID 226453454\n",
    "# Author: Husen Bhagat, habhagat@syr.edu"
   ]
  },
  {
   "cell_type": "code",
   "execution_count": 26,
   "metadata": {},
   "outputs": [],
   "source": [
    "import nltk\n",
    "from nltk.corpus import stopwords \n",
    "from nltk.tokenize import word_tokenize\n",
    "from nltk.corpus import gutenberg\n",
    "from nltk import FreqDist\n",
    "from nltk.collocations import *"
   ]
  },
  {
   "cell_type": "markdown",
   "metadata": {},
   "source": [
    "Preprocessing of state_union_part1"
   ]
  },
  {
   "cell_type": "code",
   "execution_count": 4,
   "metadata": {},
   "outputs": [],
   "source": [
    "gutenberg.fileids()\n",
    "state_union_1_text = gutenberg.words(fileids='C://Users//shadowmane//Desktop//state_union_part1.txt')"
   ]
  },
  {
   "cell_type": "code",
   "execution_count": 5,
   "metadata": {},
   "outputs": [],
   "source": [
    "# converting to lower case\n",
    "filtered_sentence =[w.lower() for w in state_union_1_text]"
   ]
  },
  {
   "cell_type": "code",
   "execution_count": 6,
   "metadata": {},
   "outputs": [],
   "source": [
    "#remove punctuations\n",
    "filtered_sentence = [word for word in filtered_sentence if word.isalpha()]"
   ]
  },
  {
   "cell_type": "code",
   "execution_count": 7,
   "metadata": {},
   "outputs": [],
   "source": [
    "#remove stopwords\n",
    "stop_words = set(stopwords.words('english'))\n",
    "filtered_sentence = [w for w in filtered_sentence if not w in stop_words]"
   ]
  },
  {
   "cell_type": "code",
   "execution_count": 8,
   "metadata": {},
   "outputs": [],
   "source": [
    "#stem words\n",
    "# lancaster = nltk.LancasterStemmer()\n",
    "# filtered_sentence = [lancaster.stem(t) for t in filtered_sentence]"
   ]
  },
  {
   "cell_type": "code",
   "execution_count": 9,
   "metadata": {},
   "outputs": [],
   "source": [
    "#lemmatizing words\n",
    "wnl = nltk.WordNetLemmatizer()\n",
    "filtered_sentence = [wnl.lemmatize(t) for t in filtered_sentence]"
   ]
  },
  {
   "cell_type": "code",
   "execution_count": 12,
   "metadata": {},
   "outputs": [
    {
     "name": "stdout",
     "output_type": "stream",
     "text": [
      "\n",
      "################ The top 50 frequent words in state_union_text1 are ################\n",
      "\n"
     ]
    },
    {
     "data": {
      "text/plain": [
       "[('state', 3771),\n",
       " ('government', 2597),\n",
       " ('united', 1864),\n",
       " ('may', 1562),\n",
       " ('congress', 1501),\n",
       " ('upon', 1455),\n",
       " ('country', 1442),\n",
       " ('would', 1381),\n",
       " ('public', 1375),\n",
       " ('power', 1159),\n",
       " ('year', 1148),\n",
       " ('great', 1073),\n",
       " ('made', 1061),\n",
       " ('duty', 1017),\n",
       " ('law', 972),\n",
       " ('last', 916),\n",
       " ('time', 915),\n",
       " ('war', 907),\n",
       " ('interest', 897),\n",
       " ('citizen', 890),\n",
       " ('subject', 888),\n",
       " ('present', 853),\n",
       " ('nation', 830),\n",
       " ('act', 808),\n",
       " ('people', 786),\n",
       " ('treaty', 748),\n",
       " ('part', 741),\n",
       " ('general', 711),\n",
       " ('shall', 694),\n",
       " ('one', 669),\n",
       " ('without', 663),\n",
       " ('union', 643),\n",
       " ('right', 636),\n",
       " ('mexico', 605),\n",
       " ('treasury', 593),\n",
       " ('every', 590),\n",
       " ('necessary', 585),\n",
       " ('constitution', 573),\n",
       " ('territory', 562),\n",
       " ('new', 548),\n",
       " ('object', 532),\n",
       " ('two', 529),\n",
       " ('foreign', 519),\n",
       " ('measure', 512),\n",
       " ('well', 510),\n",
       " ('system', 509),\n",
       " ('commerce', 506),\n",
       " ('peace', 501),\n",
       " ('consideration', 494),\n",
       " ('within', 479)]"
      ]
     },
     "execution_count": 12,
     "metadata": {},
     "output_type": "execute_result"
    }
   ],
   "source": [
    "#raw freq distribution\n",
    "freqDist_state_union_part1 = FreqDist(filtered_sentence)\n",
    "freq_state_union_part1 = freqDist_state_union_part1.most_common(50)\n",
    "print(\"\")\n",
    "#print(\"################ The top 50 frequent words in state_union_text1 are ################\\n\", freq_state_union_part1)\n",
    "print(\"################ The top 50 frequent words in state_union_text1 are ################\\n\")\n",
    "freq_state_union_part1"
   ]
  },
  {
   "cell_type": "code",
   "execution_count": 14,
   "metadata": {},
   "outputs": [
    {
     "name": "stdout",
     "output_type": "stream",
     "text": [
      "\n",
      "################ The top 50 frequent bigrams in state_union_text1 using raw frequencies are ################\n",
      "\n"
     ]
    },
    {
     "data": {
      "text/plain": [
       "[(('united', 'state'), 0.0075938083177819245),\n",
       " (('great', 'britain'), 0.0011413623033857637),\n",
       " (('last', 'session'), 0.001016395627832578),\n",
       " (('state', 'union'), 0.0008789322847240735),\n",
       " (('fellow', 'citizen'), 0.0007747933884297521),\n",
       " (('public', 'debt'), 0.0007539656091708878),\n",
       " (('house', 'representative'), 0.0006165022660623834),\n",
       " (('union', 'address'), 0.0006165022660623834),\n",
       " (('report', 'secretary'), 0.0006123367102106105),\n",
       " (('fiscal', 'year'), 0.0006040055985070648),\n",
       " (('public', 'land'), 0.0005581844841375634),\n",
       " (('act', 'congress'), 0.000508197813916289),\n",
       " (('two', 'country'), 0.000508197813916289),\n",
       " (('present', 'year'), 0.0004457144761396961),\n",
       " (('within', 'limit'), 0.0004373833644361504),\n",
       " (('public', 'money'), 0.0004332178085843775),\n",
       " (('session', 'congress'), 0.0004290522527326046),\n",
       " (('secretary', 'treasury'), 0.0004123900293255132),\n",
       " (('general', 'government'), 0.0003998933617701946),\n",
       " (('british', 'government'), 0.00038739669421487604),\n",
       " (('secretary', 'war'), 0.00038739669421487604),\n",
       " (('year', 'ending'), 0.00038739669421487604),\n",
       " (('citizen', 'united'), 0.00037490002665955743),\n",
       " (('two', 'government'), 0.0003707344708077846),\n",
       " (('federal', 'government'), 0.0003624033591042389),\n",
       " (('annual', 'message'), 0.0003540722474006932),\n",
       " (('post', 'office'), 0.00034157557984537456),\n",
       " (('public', 'service'), 0.00033324446814182886),\n",
       " (('consideration', 'congress'), 0.000329078912290056),\n",
       " (('senate', 'house'), 0.000329078912290056),\n",
       " (('ending', 'june'), 0.00031241668888296455),\n",
       " (('last', 'annual'), 0.00031241668888296455),\n",
       " (('attention', 'congress'), 0.0003082511330311917),\n",
       " (('government', 'united'), 0.00030408557717941884),\n",
       " (('part', 'united'), 0.0002874233537723274),\n",
       " (('upon', 'subject'), 0.00028325779792055453),\n",
       " (('indian', 'tribe'), 0.0002749266862170088),\n",
       " (('mexican', 'government'), 0.0002749266862170088),\n",
       " (('naval', 'force'), 0.0002749266862170088),\n",
       " (('several', 'state'), 0.0002707611303652359),\n",
       " (('treasury', 'note'), 0.0002707611303652359),\n",
       " (('postmaster', 'general'), 0.00026659557451346307),\n",
       " (('article', 'treaty'), 0.0002624300186616902),\n",
       " (('commercial', 'intercourse'), 0.0002624300186616902),\n",
       " (('state', 'would'), 0.0002624300186616902),\n",
       " (('secretary', 'state'), 0.00025826446280991736),\n",
       " (('provision', 'made'), 0.0002540989069581445),\n",
       " (('american', 'citizen'), 0.00024576779525459875),\n",
       " (('claim', 'citizen'), 0.00024576779525459875),\n",
       " (('public', 'interest'), 0.00024576779525459875)]"
      ]
     },
     "execution_count": 14,
     "metadata": {},
     "output_type": "execute_result"
    }
   ],
   "source": [
    "#raw bigrams freq distribution\n",
    "bigram_measures = nltk.collocations.BigramAssocMeasures()\n",
    "BigramFinder = BigramCollocationFinder.from_words(filtered_sentence)\n",
    "bigrams_state_union_1 = BigramFinder.score_ngrams(bigram_measures.raw_freq)\n",
    "print(\"\")\n",
    "#print(\"################ The top 50 frequent bigrams in state_union_text1 using raw frequencies are ################\\n\", bigrams_state_union_1[:50])\n",
    "print(\"################ The top 50 frequent bigrams in state_union_text1 using raw frequencies are ################\\n\")\n",
    "bigrams_state_union_1[:50]"
   ]
  },
  {
   "cell_type": "code",
   "execution_count": 15,
   "metadata": {},
   "outputs": [
    {
     "name": "stdout",
     "output_type": "stream",
     "text": [
      "\n",
      "################ The top 50 frequent bigrams in state_union_text1 using PMI scores with frequency > 5 are ################\n",
      "\n"
     ]
    },
    {
     "data": {
      "text/plain": [
       "[(('bona', 'fide'), 15.551131452774108),\n",
       " (('del', 'norte'), 15.288097046940315),\n",
       " (('millard', 'fillmore'), 15.288097046940315),\n",
       " (('punta', 'arena'), 15.288097046940312),\n",
       " (('ballot', 'box'), 15.065704625603864),\n",
       " (('clayton', 'bulwer'), 14.87305954766147),\n",
       " (('guadalupe', 'hidalgo'), 14.703134546219161),\n",
       " (('porto', 'rico'), 14.703134546219157),\n",
       " (('writ', 'mandamus'), 14.610025141827673),\n",
       " (('franklin', 'pierce'), 14.551131452774108),\n",
       " (('vera', 'cruz'), 14.288097046940315),\n",
       " (('la', 'plata'), 14.288097046940313),\n",
       " (('entangling', 'alliance'), 14.065704625603868),\n",
       " (('seminary', 'learning'), 14.051057849639466),\n",
       " (('costa', 'rica'), 13.87305954766147),\n",
       " (('nucleus', 'around'), 13.87305954766147),\n",
       " (('santa', 'anna'), 13.785596706411134),\n",
       " (('santa', 'fe'), 13.78559670641113),\n",
       " (('van', 'buren'), 13.78559670641113),\n",
       " (('sublime', 'porte'), 13.743776530716502),\n",
       " (('tea', 'coffee'), 13.625132034217884),\n",
       " (('martin', 'van'), 13.615671704968818),\n",
       " (('ad', 'valorem'), 13.551131452774106),\n",
       " (('quincy', 'adam'), 13.413627929024173),\n",
       " (('buenos', 'ayres'), 13.288097046940313),\n",
       " (('beacon', 'buoy'), 13.276124405274235),\n",
       " (('ruler', 'universe'), 13.210094534939042),\n",
       " (('indiana', 'illinois'), 13.150593523190377),\n",
       " (('de', 'facto'), 13.13970520704764),\n",
       " (('project', 'gutenberg'), 13.118172045498003),\n",
       " (('andrew', 'jackson'), 12.983242465411891),\n",
       " (('gun', 'boat'), 12.895779624161552),\n",
       " (('sooner', 'later'), 12.88816644005168),\n",
       " (('retired', 'list'), 12.864070764434214),\n",
       " (('circulating', 'medium'), 12.828665428303015),\n",
       " (('rocky', 'mountain'), 12.828665428303015),\n",
       " (('intent', 'meaning'), 12.81004975013567),\n",
       " (('john', 'quincy'), 12.785596706411132),\n",
       " (('th', 'jefferson'), 12.743776530716502),\n",
       " (('thomas', 'jefferson'), 12.656313689466163),\n",
       " (('precious', 'metal'), 12.628055429424649),\n",
       " (('almighty', 'god'), 12.615671704968818),\n",
       " (('john', 'tyler'), 12.615671704968818),\n",
       " (('san', 'francisco'), 12.587657328799223),\n",
       " (('san', 'jacinto'), 12.58765732879922),\n",
       " (('san', 'juan'), 12.58765732879922),\n",
       " (('seizure', 'confiscation'), 12.55113145277411),\n",
       " (('rio', 'grande'), 12.446794792959372),\n",
       " (('effusion', 'blood'), 12.362097628384088),\n",
       " (('st', 'croix'), 12.14513909309827)]"
      ]
     },
     "execution_count": 15,
     "metadata": {},
     "output_type": "execute_result"
    }
   ],
   "source": [
    "#PMI scores bigrams freq distribution\n",
    "bigram_measures = nltk.collocations.BigramAssocMeasures()\n",
    "BigramFinderPMI = BigramCollocationFinder.from_words(filtered_sentence)\n",
    "BigramFinderPMI.apply_freq_filter(5)\n",
    "bigrams_pmi_state_union_1 = BigramFinderPMI.score_ngrams(bigram_measures.pmi)\n",
    "print(\"\")\n",
    "#print(\"################ The top 50 frequent bigrams in state_union_text1 using PMI scores with frequency > 5 are ################\\n\", bigrams_pmi_state_union_1[:50])\n",
    "print(\"################ The top 50 frequent bigrams in state_union_text1 using PMI scores with frequency > 5 are ################\\n\")\n",
    "bigrams_pmi_state_union_1[:50]"
   ]
  },
  {
   "cell_type": "code",
   "execution_count": 16,
   "metadata": {},
   "outputs": [],
   "source": [
    "#loading the text file, state_union_2\n",
    "gutenberg.fileids()\n",
    "state_union_2_text = gutenberg.words(fileids='C://Users//shadowmane//Desktop//state_union_part2.txt')"
   ]
  },
  {
   "cell_type": "markdown",
   "metadata": {},
   "source": [
    "Preprocessing of state_union_part2"
   ]
  },
  {
   "cell_type": "code",
   "execution_count": 17,
   "metadata": {},
   "outputs": [],
   "source": [
    "#converting to lower_case\n",
    "filtered_sentence =[w.lower() for w in state_union_2_text]"
   ]
  },
  {
   "cell_type": "code",
   "execution_count": 18,
   "metadata": {},
   "outputs": [],
   "source": [
    "#remove punctuations\n",
    "filtered_sentence = [word for word in filtered_sentence if word.isalpha()]"
   ]
  },
  {
   "cell_type": "code",
   "execution_count": 19,
   "metadata": {},
   "outputs": [],
   "source": [
    "#remove stopwords\n",
    "stop_words = set(stopwords.words('english'))\n",
    "filtered_sentence = [w for w in filtered_sentence if not w in stop_words]"
   ]
  },
  {
   "cell_type": "code",
   "execution_count": 20,
   "metadata": {},
   "outputs": [],
   "source": [
    "#stem words\n",
    "# lancaster = nltk.LancasterStemmer()\n",
    "# filtered_sentence = [lancaster.stem(t) for t in filtered_sentence]"
   ]
  },
  {
   "cell_type": "code",
   "execution_count": 21,
   "metadata": {},
   "outputs": [],
   "source": [
    "#lemmatizing words\n",
    "wnl = nltk.WordNetLemmatizer()\n",
    "filtered_sentence = [wnl.lemmatize(t) for t in filtered_sentence]"
   ]
  },
  {
   "cell_type": "code",
   "execution_count": 23,
   "metadata": {},
   "outputs": [
    {
     "name": "stdout",
     "output_type": "stream",
     "text": [
      "\n",
      "################ The top 50 frequent words in state_union_text2 are ################\n",
      "\n"
     ]
    },
    {
     "data": {
      "text/plain": [
       "[('year', 2455),\n",
       " ('american', 1660),\n",
       " ('must', 1629),\n",
       " ('people', 1610),\n",
       " ('nation', 1532),\n",
       " ('world', 1518),\n",
       " ('new', 1442),\n",
       " ('u', 1355),\n",
       " ('america', 1315),\n",
       " ('government', 1256),\n",
       " ('state', 1238),\n",
       " ('congress', 1236),\n",
       " ('program', 1103),\n",
       " ('time', 909),\n",
       " ('one', 886),\n",
       " ('country', 860),\n",
       " ('make', 854),\n",
       " ('work', 846),\n",
       " ('need', 824),\n",
       " ('every', 781),\n",
       " ('federal', 754),\n",
       " ('help', 725),\n",
       " ('war', 723),\n",
       " ('million', 699),\n",
       " ('tax', 696),\n",
       " ('security', 692),\n",
       " ('job', 690),\n",
       " ('peace', 684),\n",
       " ('economic', 671),\n",
       " ('united', 651),\n",
       " ('also', 639),\n",
       " ('economy', 623),\n",
       " ('right', 621),\n",
       " ('child', 620),\n",
       " ('national', 610),\n",
       " ('great', 583),\n",
       " ('free', 575),\n",
       " ('last', 574),\n",
       " ('first', 566),\n",
       " ('many', 566),\n",
       " ('let', 563),\n",
       " ('effort', 547),\n",
       " ('know', 541),\n",
       " ('would', 538),\n",
       " ('budget', 533),\n",
       " ('system', 531),\n",
       " ('life', 529),\n",
       " ('family', 527),\n",
       " ('force', 519),\n",
       " ('freedom', 517)]"
      ]
     },
     "execution_count": 23,
     "metadata": {},
     "output_type": "execute_result"
    }
   ],
   "source": [
    "#raw freq distribution\n",
    "freqDist_state_union_part2 = FreqDist(filtered_sentence)\n",
    "freq_state_union_part2 = freqDist_state_union_part2.most_common(50)\n",
    "print(\"\")\n",
    "#print(\"################ The top 50 frequent words in state_union_text2 are ################\\n\", freq_state_union_part2)\n",
    "print(\"################ The top 50 frequent words in state_union_text2 are ################\\n\")\n",
    "freq_state_union_part2"
   ]
  },
  {
   "cell_type": "code",
   "execution_count": 24,
   "metadata": {},
   "outputs": [
    {
     "name": "stdout",
     "output_type": "stream",
     "text": [
      "\n",
      "################ The top 50 frequent bigrams in state_union_text2 using raw frequencies are ################\n",
      "\n"
     ]
    },
    {
     "data": {
      "text/plain": [
       "[(('united', 'state'), 0.0020551327162004066),\n",
       " (('last', 'year'), 0.001232189961877733),\n",
       " (('state', 'union'), 0.001205499926602403),\n",
       " (('american', 'people'), 0.0010764980894383083),\n",
       " (('fiscal', 'year'), 0.0008629778072356685),\n",
       " (('year', 'ago'), 0.0008496327895980036),\n",
       " (('federal', 'government'), 0.0008273910935352286),\n",
       " (('social', 'security'), 0.0008184944151101186),\n",
       " (('health', 'care'), 0.0007962527190473437),\n",
       " (('let', 'u'), 0.0007918043798347886),\n",
       " (('billion', 'dollar'), 0.0006983892563711338),\n",
       " (('union', 'address'), 0.0006316641681828089),\n",
       " (('united', 'nation'), 0.000600525793694924),\n",
       " (('million', 'dollar'), 0.000596077454482369),\n",
       " (('next', 'year'), 0.0005560424015693741),\n",
       " (('soviet', 'union'), 0.0005560424015693741),\n",
       " (('men', 'woman'), 0.0005026623310187141),\n",
       " (('past', 'year'), 0.0004982139918061592),\n",
       " (('free', 'world'), 0.0004893173133810492),\n",
       " (('every', 'american'), 0.00044483392125549924),\n",
       " (('member', 'congress'), 0.0004403855820429443),\n",
       " (('small', 'business'), 0.00043593724283038927),\n",
       " (('economic', 'growth'), 0.0004181438859801693),\n",
       " (('million', 'american'), 0.0004136955467676143),\n",
       " (('middle', 'east'), 0.00040479886834250434),\n",
       " (('state', 'local'), 0.00040479886834250434),\n",
       " (('free', 'nation'), 0.0003959021899173943),\n",
       " (('make', 'sure'), 0.0003959021899173943),\n",
       " (('four', 'year'), 0.00039145385070483936),\n",
       " (('first', 'time'), 0.00038700551149228434),\n",
       " (('long', 'term'), 0.0003647638154295094),\n",
       " (('ask', 'congress'), 0.0003514187977918444),\n",
       " (('world', 'war'), 0.0003514187977918444),\n",
       " (('armed', 'force'), 0.00034252211936673443),\n",
       " (('tax', 'cut'), 0.0003380737801541794),\n",
       " (('foreign', 'policy'), 0.00032917710172906945),\n",
       " (('must', 'continue'), 0.00032917710172906945),\n",
       " (('new', 'job'), 0.00032917710172906945),\n",
       " (('work', 'together'), 0.00032917710172906945),\n",
       " (('two', 'year'), 0.0003202804233039595),\n",
       " (('mr', 'speaker'), 0.0003113837448788495),\n",
       " (('local', 'government'), 0.0002980387272411845),\n",
       " (('vice', 'president'), 0.0002980387272411845),\n",
       " (('around', 'world'), 0.00028914204881607455),\n",
       " (('national', 'security'), 0.0002802453703909645),\n",
       " (('must', 'also'), 0.00027579703117840956),\n",
       " (('address', 'january'), 0.00026690035275329953),\n",
       " (('human', 'right'), 0.00026690035275329953),\n",
       " (('health', 'insurance'), 0.0002624520135407446),\n",
       " (('fellow', 'citizen'), 0.00025800367432818956)]"
      ]
     },
     "execution_count": 24,
     "metadata": {},
     "output_type": "execute_result"
    }
   ],
   "source": [
    "#raw bigrams freq distribution\n",
    "bigram_measures = nltk.collocations.BigramAssocMeasures()\n",
    "BigramFinder = BigramCollocationFinder.from_words(filtered_sentence)\n",
    "bigrams_state_union_2 = BigramFinder.score_ngrams(bigram_measures.raw_freq)\n",
    "print(\"\")\n",
    "#print(\"################ The top 50 frequent bigrams in state_union_text2 using raw frequencies are ################\\n\", bigrams_state_union_2[:50])\n",
    "print(\"################ The top 50 frequent bigrams in state_union_text2 using raw frequencies are ################\\n\")\n",
    "bigrams_state_union_2[:50]"
   ]
  },
  {
   "cell_type": "code",
   "execution_count": 25,
   "metadata": {},
   "outputs": [
    {
     "name": "stdout",
     "output_type": "stream",
     "text": [
      "\n",
      "################ The top 50 frequent bigrams in state_union_text2 using PMI scores with frequency > 5 are ################\n",
      "\n"
     ]
    },
    {
     "data": {
      "text/plain": [
       "[(('taft', 'hartley'), 15.456373668027524),\n",
       " (('el', 'salvador'), 15.193339262193728),\n",
       " (('gramm', 'rudman'), 15.193339262193728),\n",
       " (('rudman', 'hollings'), 15.193339262193728),\n",
       " (('bin', 'laden'), 14.97094684085728),\n",
       " (('saudi', 'arabia'), 14.97094684085728),\n",
       " (('sam', 'rayburn'), 14.778301762914882),\n",
       " (('st', 'lawrence'), 14.707912435023488),\n",
       " (('viet', 'nam'), 14.456373668027522),\n",
       " (('jimmy', 'carter'), 14.318870144277584),\n",
       " (('endowed', 'creator'), 14.193339262193728),\n",
       " (('northern', 'ireland'), 14.193339262193728),\n",
       " (('neill', 'jr'), 14.12294993430233),\n",
       " (('iron', 'curtain'), 13.871411167306363),\n",
       " (('tight', 'knit'), 13.814827638939999),\n",
       " (('floor', 'appears'), 13.778301762914884),\n",
       " (('red', 'tape'), 13.778301762914884),\n",
       " (('jill', 'biden'), 13.707912435023488),\n",
       " (('thomas', 'jefferson'), 13.707912435023488),\n",
       " (('barack', 'obama'), 13.690838921664541),\n",
       " (('william', 'j'), 13.678766089363968),\n",
       " (('abraham', 'lincoln'), 13.520913920222231),\n",
       " (('ronald', 'reagan'), 13.318870144277588),\n",
       " (('mom', 'dad'), 13.292874935744644),\n",
       " (('j', 'clinton'), 13.263728590085126),\n",
       " (('greece', 'turkey'), 13.233981246691073),\n",
       " (('teen', 'pregnancy'), 13.160324204965763),\n",
       " (('gerald', 'r'), 13.115336750192455),\n",
       " (('elementary', 'secondary'), 13.077862044773793),\n",
       " (('feeding', 'hungry'), 12.996942049390224),\n",
       " (('lend', 'lease'), 12.99170540102408),\n",
       " (('intercontinental', 'ballistic'), 12.97094684085728),\n",
       " (('lady', 'gentleman'), 12.97094684085728),\n",
       " (('w', 'bush'), 12.95630006489288),\n",
       " (('status', 'quo'), 12.92032076778731),\n",
       " (('vol', 'p'), 12.871411167306366),\n",
       " (('grass', 'root'), 12.871411167306363),\n",
       " (('nationwide', 'radio'), 12.830769182809018),\n",
       " (('empowerment', 'zone'), 12.801021839414968),\n",
       " (('radio', 'television'), 12.778301762914882),\n",
       " (('dwight', 'eisenhower'), 12.672507098892288),\n",
       " (('r', 'ford'), 12.655905131555159),\n",
       " (('lyndon', 'b'), 12.649018745969919),\n",
       " (('richard', 'nixon'), 12.631945232610976),\n",
       " (('introduced', 'thomas'), 12.592435217603551),\n",
       " (('harry', 'truman'), 12.568848397285933),\n",
       " (('saddam', 'hussein'), 12.568848397285933),\n",
       " (('prime', 'minister'), 12.530374249471299),\n",
       " (('reported', 'floor'), 12.530374249471297),\n",
       " (('f', 'kennedy'), 12.498193843722149)]"
      ]
     },
     "execution_count": 25,
     "metadata": {},
     "output_type": "execute_result"
    }
   ],
   "source": [
    "#PMI scores bigrams freq distribution\n",
    "bigram_measures = nltk.collocations.BigramAssocMeasures()\n",
    "BigramFinderPMI = BigramCollocationFinder.from_words(filtered_sentence)\n",
    "BigramFinderPMI.apply_freq_filter(5)\n",
    "bigrams_pmi_state_union_2 = BigramFinderPMI.score_ngrams(bigram_measures.pmi)\n",
    "print(\"\")\n",
    "#print(\"################ The top 50 frequent bigrams in state_union_text2 using PMI scores with frequency > 5 are ################\\n\", bigrams_pmi_state_union_2[:50])\n",
    "print(\"################ The top 50 frequent bigrams in state_union_text2 using PMI scores with frequency > 5 are ################\\n\")\n",
    "bigrams_pmi_state_union_2[:50]"
   ]
  },
  {
   "cell_type": "code",
   "execution_count": null,
   "metadata": {},
   "outputs": [],
   "source": []
  }
 ],
 "metadata": {
  "kernelspec": {
   "display_name": "Python 3",
   "language": "python",
   "name": "python3"
  },
  "language_info": {
   "codemirror_mode": {
    "name": "ipython",
    "version": 3
   },
   "file_extension": ".py",
   "mimetype": "text/x-python",
   "name": "python",
   "nbconvert_exporter": "python",
   "pygments_lexer": "ipython3",
   "version": "3.7.3"
  }
 },
 "nbformat": 4,
 "nbformat_minor": 2
}
