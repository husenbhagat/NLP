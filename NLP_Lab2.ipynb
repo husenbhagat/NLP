{
 "cells": [
  {
   "cell_type": "code",
   "execution_count": 1,
   "metadata": {},
   "outputs": [],
   "source": [
    "# Week 3:  Bigram Frequencies and Mutual Information\n",
    "# This file has small examples that are meant to be run individually\n",
    "#   in the Python interpreter or jupyter notebook cells"
   ]
  },
  {
   "cell_type": "code",
   "execution_count": 2,
   "metadata": {},
   "outputs": [],
   "source": [
    "## Part 1: word frequency distribution\n",
    "\n",
    "# Getting started to process a text example\n",
    "import nltk\n",
    "\n",
    "# get the tokens of the book Emma from the Gutenberg corpus,\n",
    "# and reduce the tokens to lowercase.\n",
    "\n",
    "from nltk.corpus import gutenberg\n",
    "gutenberg.fileids()\n",
    "emma=gutenberg.words(fileids='austen-emma.txt')\n",
    "emmawords =[w.lower() for w in emma]"
   ]
  },
  {
   "cell_type": "code",
   "execution_count": 3,
   "metadata": {},
   "outputs": [
    {
     "data": {
      "text/plain": [
       "['[',\n",
       " 'emma',\n",
       " 'by',\n",
       " 'jane',\n",
       " 'austen',\n",
       " '1816',\n",
       " ']',\n",
       " 'volume',\n",
       " 'i',\n",
       " 'chapter',\n",
       " 'i',\n",
       " 'emma',\n",
       " 'woodhouse',\n",
       " ',',\n",
       " 'handsome',\n",
       " ',',\n",
       " 'clever',\n",
       " ',',\n",
       " 'and',\n",
       " 'rich',\n",
       " ',',\n",
       " 'with',\n",
       " 'a',\n",
       " 'comfortable',\n",
       " 'home',\n",
       " 'and',\n",
       " 'happy',\n",
       " 'disposition',\n",
       " ',',\n",
       " 'seemed']"
      ]
     },
     "execution_count": 3,
     "metadata": {},
     "output_type": "execute_result"
    }
   ],
   "source": [
    "# show some of the words\n",
    "len(emmawords)\n",
    "emmawords[ :30]"
   ]
  },
  {
   "cell_type": "code",
   "execution_count": 4,
   "metadata": {},
   "outputs": [],
   "source": [
    "# Creating a frequency distribution of words\n",
    "from nltk import FreqDist\n",
    "ndist = FreqDist(emmawords)"
   ]
  },
  {
   "cell_type": "code",
   "execution_count": 5,
   "metadata": {},
   "outputs": [
    {
     "data": {
      "text/plain": [
       "[(',', 11454),\n",
       " ('.', 6928),\n",
       " ('to', 5239),\n",
       " ('the', 5201),\n",
       " ('and', 4896),\n",
       " ('of', 4291),\n",
       " ('i', 3178),\n",
       " ('a', 3129),\n",
       " ('it', 2528),\n",
       " ('her', 2469),\n",
       " ('was', 2398),\n",
       " ('she', 2340),\n",
       " (';', 2199),\n",
       " ('in', 2188),\n",
       " ('not', 2140),\n",
       " ('\"', 2004),\n",
       " ('you', 1980),\n",
       " ('be', 1975),\n",
       " ('that', 1806),\n",
       " ('he', 1806),\n",
       " ('had', 1624),\n",
       " ('but', 1441),\n",
       " ('as', 1436),\n",
       " ('--', 1382),\n",
       " ('for', 1347),\n",
       " ('have', 1320),\n",
       " ('is', 1240),\n",
       " ('with', 1217),\n",
       " ('very', 1202),\n",
       " ('mr', 1153)]"
      ]
     },
     "execution_count": 5,
     "metadata": {},
     "output_type": "execute_result"
    }
   ],
   "source": [
    "# print the top 30 tokens by frequency\n",
    "nitems = ndist.most_common(30)\n",
    "nitems"
   ]
  },
  {
   "cell_type": "code",
   "execution_count": 6,
   "metadata": {},
   "outputs": [
    {
     "data": {
      "text/plain": [
       "10.8"
      ]
     },
     "execution_count": 6,
     "metadata": {},
     "output_type": "execute_result"
    }
   ],
   "source": [
    "## Part 2: Define Python functions  \n",
    "\n",
    "\n",
    "# the function doublesum takes 2 numbers as parameters, either int or float\n",
    "#  and returns a result which is the sum of those numbers multiplied by 2\n",
    "def doublesum (x, y):\n",
    "    result = 2 * (x + y)\n",
    "    return result\n",
    "\n",
    "doublesum(3, 5)\n",
    "num = doublesum(3.4, 2)\n",
    "num\n"
   ]
  },
  {
   "cell_type": "code",
   "execution_count": 7,
   "metadata": {},
   "outputs": [
    {
     "data": {
      "text/plain": [
       "['drizzle',\n",
       " 'puzzled',\n",
       " 'puzzles',\n",
       " 'puzzling',\n",
       " 'puzzled',\n",
       " 'puzzle',\n",
       " 'puzzle',\n",
       " 'puzzled']"
      ]
     },
     "execution_count": 7,
     "metadata": {},
     "output_type": "execute_result"
    }
   ],
   "source": [
    "# this following function takes a string and a list of words as parameters.\n",
    "#   It will return all the words in the list that contain the string as a substring\n",
    "def searchstring (substring, wordlist):\n",
    "    # initialize the result\n",
    "    result = [ ]\n",
    "    #  loop over all the words\n",
    "    for word in wordlist:\n",
    "        # test each word if it contains the substring\n",
    "        if substring in word:\n",
    "            # add it to the result\n",
    "            result.append(word)\n",
    "    return result\n",
    "\n",
    "searchstring('zz', emmawords)"
   ]
  },
  {
   "cell_type": "code",
   "execution_count": 8,
   "metadata": {},
   "outputs": [
    {
     "name": "stdout",
     "output_type": "stream",
     "text": [
      "Zack\n",
      "22-15\n",
      "Room 159\n"
     ]
    }
   ],
   "source": [
    "# multiple variable assignment and use\n",
    "name, phone, location = ('Zack', '22-15', 'Room 159')\n",
    "print(name)\n",
    "print(phone)\n",
    "print(location)"
   ]
  },
  {
   "cell_type": "code",
   "execution_count": 9,
   "metadata": {},
   "outputs": [
    {
     "data": {
      "text/plain": [
       "[('[', 'emma'),\n",
       " ('emma', 'by'),\n",
       " ('by', 'jane'),\n",
       " ('jane', 'austen'),\n",
       " ('austen', '1816'),\n",
       " ('1816', ']'),\n",
       " (']', 'volume'),\n",
       " ('volume', 'i'),\n",
       " ('i', 'chapter'),\n",
       " ('chapter', 'i'),\n",
       " ('i', 'emma'),\n",
       " ('emma', 'woodhouse'),\n",
       " ('woodhouse', ','),\n",
       " (',', 'handsome'),\n",
       " ('handsome', ','),\n",
       " (',', 'clever'),\n",
       " ('clever', ','),\n",
       " (',', 'and'),\n",
       " ('and', 'rich')]"
      ]
     },
     "execution_count": 9,
     "metadata": {},
     "output_type": "execute_result"
    }
   ],
   "source": [
    "# Part 3: Bigrams and Bigram frequency distribution\n",
    "\n",
    "emmabigrams = list(nltk.bigrams(emmawords))\n",
    "emmawords[:20]\n",
    "emmabigrams[:19]"
   ]
  },
  {
   "cell_type": "code",
   "execution_count": 10,
   "metadata": {},
   "outputs": [],
   "source": [
    "# setup for bigrams and bigram measures\n",
    "from nltk.collocations import *\n",
    "bigram_measures = nltk.collocations.BigramAssocMeasures()"
   ]
  },
  {
   "cell_type": "code",
   "execution_count": 11,
   "metadata": {},
   "outputs": [],
   "source": [
    "# create the bigram finder and score the bigrams by frequency\n",
    "finder = BigramCollocationFinder.from_words(emmawords)\n",
    "scored = finder.score_ngrams(bigram_measures.raw_freq)"
   ]
  },
  {
   "cell_type": "code",
   "execution_count": 12,
   "metadata": {},
   "outputs": [
    {
     "data": {
      "text/plain": [
       "[(('yourself', 'harriet'), 5.196775920219096e-06),\n",
       " (('yourself', 'how'), 5.196775920219096e-06),\n",
       " (('yourself', 'mistaken'), 5.196775920219096e-06),\n",
       " (('yourself', 'one'), 5.196775920219096e-06),\n",
       " (('yourself', 'only'), 5.196775920219096e-06),\n",
       " (('yourself', 'out'), 5.196775920219096e-06),\n",
       " (('yourself', 'particularly'), 5.196775920219096e-06),\n",
       " (('yourself', 'this'), 5.196775920219096e-06),\n",
       " (('yourself', 'too'), 5.196775920219096e-06),\n",
       " (('yourself', 'when'), 5.196775920219096e-06),\n",
       " (('youth', 'had'), 5.196775920219096e-06),\n",
       " (('youth', 'is'), 5.196775920219096e-06),\n",
       " (('youth', 'on'), 5.196775920219096e-06),\n",
       " (('youthful', 'expression'), 5.196775920219096e-06),\n",
       " (('youthful', 'simplicity'), 5.196775920219096e-06),\n",
       " (('zeal', '!--'), 5.196775920219096e-06),\n",
       " (('zeal', 'and'), 5.196775920219096e-06),\n",
       " (('zeal', 'in'), 5.196775920219096e-06),\n",
       " (('zeal', 'of'), 5.196775920219096e-06),\n",
       " (('zigzags', 'of'), 5.196775920219096e-06)]"
      ]
     },
     "execution_count": 12,
     "metadata": {},
     "output_type": "execute_result"
    }
   ],
   "source": [
    "# scored is a list of bigram pairs with their score\n",
    "type(scored)\n",
    "first = scored[0]\n",
    "type(first)\n",
    "first\n",
    "scored[:20]\n",
    "scored[-20:]"
   ]
  },
  {
   "cell_type": "code",
   "execution_count": 13,
   "metadata": {},
   "outputs": [
    {
     "data": {
      "text/plain": [
       "[(('your', 'little'), 1.0393551840438192e-05),\n",
       " (('your', 'manners'), 1.0393551840438192e-05),\n",
       " (('your', 'meaning'), 1.0393551840438192e-05),\n",
       " (('your', 'name'), 1.0393551840438192e-05),\n",
       " (('your', 'not'), 1.0393551840438192e-05),\n",
       " (('your', 'only'), 1.0393551840438192e-05),\n",
       " (('your', 'picture'), 1.0393551840438192e-05),\n",
       " (('your', 'real'), 1.0393551840438192e-05),\n",
       " (('your', 'resolution'), 1.0393551840438192e-05),\n",
       " (('your', 'sensations'), 1.0393551840438192e-05),\n",
       " (('your', 'sister'), 1.0393551840438192e-05),\n",
       " (('your', 'taste'), 1.0393551840438192e-05),\n",
       " (('your', 'thoughts'), 1.0393551840438192e-05),\n",
       " (('your', 'tippet'), 1.0393551840438192e-05),\n",
       " (('your', 'way'), 1.0393551840438192e-05),\n",
       " (('yours', ','), 1.0393551840438192e-05),\n",
       " (('yourself', '.\"'), 1.0393551840438192e-05),\n",
       " (('yourself', '.--'), 1.0393551840438192e-05),\n",
       " (('yourself', 'for'), 1.0393551840438192e-05),\n",
       " (('yourself', 'very'), 1.0393551840438192e-05)]"
      ]
     },
     "execution_count": 13,
     "metadata": {},
     "output_type": "execute_result"
    }
   ],
   "source": [
    "# apply a filter (on a new finder) to remove low frequency words\n",
    "finder2 = BigramCollocationFinder.from_words(emmawords)\n",
    "finder2.apply_freq_filter(2)\n",
    "scored2 = finder2.score_ngrams(bigram_measures.raw_freq)\n",
    "scored2[-20:]"
   ]
  },
  {
   "cell_type": "code",
   "execution_count": 14,
   "metadata": {},
   "outputs": [
    {
     "data": {
      "text/plain": [
       "[(('----', 'mum'), 17.553951716544702),\n",
       " (('1816', ']'), 17.553951716544702),\n",
       " (('26th', 'ult'), 17.553951716544702),\n",
       " (('_______', 'regiment'), 17.553951716544702),\n",
       " (('_a_', '_source_'), 17.553951716544702),\n",
       " (('_amor_', '_patriae_'), 17.553951716544702),\n",
       " (('_and_', '_misery_'), 17.553951716544702),\n",
       " (('_any_', '_thing_'), 17.553951716544702),\n",
       " (('_be_', '_a_'), 17.553951716544702),\n",
       " (('_caro_', '_sposo_'), 17.553951716544702),\n",
       " (('_dissolved_', '_it_'), 17.553951716544702),\n",
       " (('_great_', '_way_'), 17.553951716544702),\n",
       " (('_most_', '_precious_'), 17.553951716544702),\n",
       " (('_precious_', '_treasures_'), 17.553951716544702),\n",
       " (('_repentance_', '_and_'), 17.553951716544702),\n",
       " (('_robin_', '_adair_'), 17.553951716544702),\n",
       " (('_with_', '_time_'), 17.553951716544702),\n",
       " (('adequate', 'restoratives'), 17.553951716544702),\n",
       " (('austen', '1816'), 17.553951716544702),\n",
       " (('base', 'aspersion'), 17.553951716544702)]"
      ]
     },
     "execution_count": 14,
     "metadata": {},
     "output_type": "execute_result"
    }
   ],
   "source": [
    "### pointwise mutual information\n",
    "finder3 = BigramCollocationFinder.from_words(emmawords)\n",
    "scored3 = finder3.score_ngrams(bigram_measures.pmi)\n",
    "scored3[:20]"
   ]
  },
  {
   "cell_type": "code",
   "execution_count": 15,
   "metadata": {},
   "outputs": [
    {
     "data": {
      "text/plain": [
       "[(('brunswick', 'square'), 13.968989215823544),\n",
       " (('sore', 'throat'), 13.553951716544704),\n",
       " (('mill', 'farm'), 13.246523191352455),\n",
       " (('william', 'larkins'), 13.094520097907408),\n",
       " (('baked', 'apples'), 13.062098620215028),\n",
       " (('e', '.,'), 12.83148569207361),\n",
       " (('box', 'hill'), 12.740883143292704),\n",
       " (('sixteen', 'miles'), 12.618491968739413),\n",
       " (('maple', 'grove'), 12.599755406157827),\n",
       " (('hair', 'cut'), 12.06852488937446),\n",
       " (('south', 'end'), 11.968989215823546),\n",
       " (('colonel', 'campbell'), 11.440953783187222),\n",
       " (('protest', 'against'), 11.35231785537505),\n",
       " (('robert', 'martin'), 11.098757090793876),\n",
       " (('vast', 'deal'), 10.767355354653896),\n",
       " (('five', 'couple'), 10.702202675128644),\n",
       " (('ready', 'wit'), 10.63508847927011),\n",
       " (('musical', 'society'), 10.483562388653304),\n",
       " (('infinitely', 'superior'), 10.18588184001262),\n",
       " (('donwell', 'abbey'), 10.15497056348493)]"
      ]
     },
     "execution_count": 15,
     "metadata": {},
     "output_type": "execute_result"
    }
   ],
   "source": [
    "# to get good results, should first apply frequency filter\n",
    "finder3.apply_freq_filter(5)\n",
    "scored4 = finder3.score_ngrams(bigram_measures.pmi)\n",
    "scored4[:20]"
   ]
  },
  {
   "cell_type": "raw",
   "metadata": {},
   "source": []
  },
  {
   "cell_type": "code",
   "execution_count": 24,
   "metadata": {
    "scrolled": true
   },
   "outputs": [],
   "source": [
    "from nltk.corpus import gutenberg\n",
    "gutenberg.fileids()\n",
    "a=gutenberg.words(fileids='shakespeare-hamlet.txt')\n",
    "aw =[w.lower() for w in a]"
   ]
  },
  {
   "cell_type": "code",
   "execution_count": 17,
   "metadata": {},
   "outputs": [
    {
     "name": "stdout",
     "output_type": "stream",
     "text": [
      "Top 20 frequent bigrams\n"
     ]
    },
    {
     "data": {
      "text/plain": [
       "[('[', 'the'),\n",
       " ('the', 'tragedie'),\n",
       " ('tragedie', 'of'),\n",
       " ('of', 'hamlet'),\n",
       " ('hamlet', 'by'),\n",
       " ('by', 'william'),\n",
       " ('william', 'shakespeare'),\n",
       " ('shakespeare', '1599'),\n",
       " ('1599', ']'),\n",
       " (']', 'actus'),\n",
       " ('actus', 'primus'),\n",
       " ('primus', '.'),\n",
       " ('.', 'scoena'),\n",
       " ('scoena', 'prima'),\n",
       " ('prima', '.'),\n",
       " ('.', 'enter'),\n",
       " ('enter', 'barnardo'),\n",
       " ('barnardo', 'and'),\n",
       " ('and', 'francisco'),\n",
       " ('francisco', 'two')]"
      ]
     },
     "execution_count": 17,
     "metadata": {},
     "output_type": "execute_result"
    }
   ],
   "source": [
    "ab = list(nltk.bigrams(aw))\n",
    "print(\"Top 20 frequent bigrams\")\n",
    "ab[:20]"
   ]
  },
  {
   "cell_type": "code",
   "execution_count": 18,
   "metadata": {},
   "outputs": [],
   "source": [
    "from nltk.collocations import *\n",
    "bigram_measures = nltk.collocations.BigramAssocMeasures()"
   ]
  },
  {
   "cell_type": "code",
   "execution_count": 19,
   "metadata": {},
   "outputs": [],
   "source": [
    "finder = BigramCollocationFinder.from_words(aw)\n",
    "x = finder.score_ngrams(bigram_measures.raw_freq)"
   ]
  },
  {
   "cell_type": "code",
   "execution_count": 20,
   "metadata": {},
   "outputs": [
    {
     "data": {
      "text/plain": [
       "[((',', 'and'), 0.012473233404710921),\n",
       " (('ham', '.'), 0.0090203426124197),\n",
       " ((\"'\", 'd'), 0.005968950749464668),\n",
       " (('my', 'lord'), 0.004684154175588865),\n",
       " (('.', 'i'), 0.004041755888650964),\n",
       " ((',', 'that'), 0.0036402569593147753),\n",
       " ((\"'\", 's'), 0.003265524625267666),\n",
       " ((',', 'i'), 0.002810492505353319),\n",
       " (('king', '.'), 0.002569593147751606),\n",
       " (('hor', '.'), 0.002542826552462527),\n",
       " ((',', 'the'), 0.0024892933618843685),\n",
       " ((\"'\", 't'), 0.0022483940042826553),\n",
       " ((',', 'to'), 0.002114561027837259),\n",
       " ((',', 'as'), 0.001980728051391863),\n",
       " (('.', 'enter'), 0.0019539614561027837),\n",
       " (('in', 'the'), 0.0019539614561027837),\n",
       " (('lord', ','), 0.0019539614561027837),\n",
       " ((',', 'but'), 0.0017933618843683084),\n",
       " ((',', 'my'), 0.0017933618843683084),\n",
       " (('.', 'what'), 0.0017933618843683084)]"
      ]
     },
     "execution_count": 20,
     "metadata": {},
     "output_type": "execute_result"
    }
   ],
   "source": [
    "x[:20]"
   ]
  },
  {
   "cell_type": "code",
   "execution_count": 23,
   "metadata": {},
   "outputs": [
    {
     "data": {
      "text/plain": [
       "[(('lords', 'attendant'), 12.45224124043082),\n",
       " (('christian', 'buriall'), 11.867278739709661),\n",
       " (('second', 'husband'), 10.45224124043082),\n",
       " (('young', 'fortinbras'), 9.903804615734776),\n",
       " (('god', 'buy'), 9.751801522289727),\n",
       " (('noise', 'within'), 9.644886318373214),\n",
       " (('mine', 'vnkle'), 9.314737716680884),\n",
       " (('am', 'glad'), 9.073729617177088),\n",
       " (('too', 'blame'), 8.867278739709661),\n",
       " (('any', 'thing'), 8.779815898459324),\n",
       " (('fathers', 'death'), 8.657825374080714),\n",
       " (('manet', 'hamlet'), 8.5453506448223),\n",
       " (('father', 'lost'), 8.545350644822298),\n",
       " (('marcellus', 'mar'), 8.498044930043942),\n",
       " (('-', 'historicall'), 8.31884211501362),\n",
       " (('an', 'act'), 8.29136137859151),\n",
       " (('dead', 'body'), 8.282316238988503),\n",
       " (('were', 'sent'), 8.266374695119485),\n",
       " (('set', 'downe'), 8.244348388789486),\n",
       " (('our', 'selues'), 8.166839021568569)]"
      ]
     },
     "execution_count": 23,
     "metadata": {},
     "output_type": "execute_result"
    }
   ],
   "source": [
    "f = BigramCollocationFinder.from_words(aw)\n",
    "f.apply_freq_filter(3)\n",
    "s = f.score_ngrams(bigram_measures.pmi)\n",
    "s[:20]"
   ]
  },
  {
   "cell_type": "code",
   "execution_count": 144,
   "metadata": {},
   "outputs": [],
   "source": [
    "filepath=\"C:\\\\Users\\\\shadowmane\\\\Desktop\\\\nlp_lab2.txt\""
   ]
  },
  {
   "cell_type": "code",
   "execution_count": 145,
   "metadata": {},
   "outputs": [],
   "source": [
    "bigrams = gutenberg.words(fileids=filepath)"
   ]
  },
  {
   "cell_type": "code",
   "execution_count": 146,
   "metadata": {},
   "outputs": [],
   "source": [
    "bg =[w.lower() for w in bigrams]"
   ]
  },
  {
   "cell_type": "code",
   "execution_count": 147,
   "metadata": {},
   "outputs": [],
   "source": [
    "ndist = FreqDist(nltk.bigrams(bg))"
   ]
  },
  {
   "cell_type": "code",
   "execution_count": 148,
   "metadata": {},
   "outputs": [],
   "source": [
    "num  = ndist[('our','people')]"
   ]
  },
  {
   "cell_type": "code",
   "execution_count": 149,
   "metadata": {},
   "outputs": [],
   "source": [
    "den = FreqDist(bg)['our']"
   ]
  },
  {
   "cell_type": "code",
   "execution_count": 150,
   "metadata": {},
   "outputs": [
    {
     "name": "stdout",
     "output_type": "stream",
     "text": [
      "The bigram predictive probability of our people is  1  /  23\n"
     ]
    }
   ],
   "source": [
    "print(\"The bigram predictive probability of our people is \" ,num,\" / \", den)"
   ]
  },
  {
   "cell_type": "code",
   "execution_count": 151,
   "metadata": {},
   "outputs": [],
   "source": [
    "num = ndist[('our','journey')]"
   ]
  },
  {
   "cell_type": "code",
   "execution_count": 152,
   "metadata": {},
   "outputs": [
    {
     "name": "stdout",
     "output_type": "stream",
     "text": [
      "The bigram predictive probability of our journey is  4  /  23\n"
     ]
    }
   ],
   "source": [
    "print(\"The bigram predictive probability of our journey is \" ,num,\" / \", den)"
   ]
  },
  {
   "cell_type": "code",
   "execution_count": null,
   "metadata": {},
   "outputs": [],
   "source": []
  }
 ],
 "metadata": {
  "kernelspec": {
   "display_name": "Python 3",
   "language": "python",
   "name": "python3"
  },
  "language_info": {
   "codemirror_mode": {
    "name": "ipython",
    "version": 3
   },
   "file_extension": ".py",
   "mimetype": "text/x-python",
   "name": "python",
   "nbconvert_exporter": "python",
   "pygments_lexer": "ipython3",
   "version": "3.7.3"
  }
 },
 "nbformat": 4,
 "nbformat_minor": 2
}
